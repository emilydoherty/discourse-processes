{
 "cells": [
  {
   "cell_type": "code",
   "execution_count": 1,
   "id": "107cf78a",
   "metadata": {},
   "outputs": [
    {
     "name": "stderr",
     "output_type": "stream",
     "text": [
      "/Library/Frameworks/Python.framework/Versions/3.11/lib/python3.11/site-packages/tqdm/auto.py:21: TqdmWarning: IProgress not found. Please update jupyter and ipywidgets. See https://ipywidgets.readthedocs.io/en/stable/user_install.html\n",
      "  from .autonotebook import tqdm as notebook_tqdm\n"
     ]
    }
   ],
   "source": [
    "import pandas as pd\n",
    "import numpy as np\n",
    "import os\n",
    "from sentence_transformers import SentenceTransformer\n",
    "\n",
    "#Note that this uses cosine distance (opposite of cosine similarity, e.g., 1-(cos_distance) = cos_similarity)\n",
    "from scipy.spatial.distance import cosine"
   ]
  },
  {
   "cell_type": "code",
   "execution_count": 4,
   "id": "6526fd5e",
   "metadata": {},
   "outputs": [
    {
     "data": {
      "text/html": [
       "<div>\n",
       "<style scoped>\n",
       "    .dataframe tbody tr th:only-of-type {\n",
       "        vertical-align: middle;\n",
       "    }\n",
       "\n",
       "    .dataframe tbody tr th {\n",
       "        vertical-align: top;\n",
       "    }\n",
       "\n",
       "    .dataframe thead th {\n",
       "        text-align: right;\n",
       "    }\n",
       "</style>\n",
       "<table border=\"1\" class=\"dataframe\">\n",
       "  <thead>\n",
       "    <tr style=\"text-align: right;\">\n",
       "      <th></th>\n",
       "      <th>Text</th>\n",
       "      <th>Speaker</th>\n",
       "    </tr>\n",
       "  </thead>\n",
       "  <tbody>\n",
       "    <tr>\n",
       "      <th>0</th>\n",
       "      <td>Ok this is the answer</td>\n",
       "      <td>A</td>\n",
       "    </tr>\n",
       "    <tr>\n",
       "      <th>1</th>\n",
       "      <td>are you sure</td>\n",
       "      <td>B</td>\n",
       "    </tr>\n",
       "    <tr>\n",
       "      <th>2</th>\n",
       "      <td>yea yea Im sure</td>\n",
       "      <td>A</td>\n",
       "    </tr>\n",
       "    <tr>\n",
       "      <th>3</th>\n",
       "      <td>No not like that</td>\n",
       "      <td>C</td>\n",
       "    </tr>\n",
       "  </tbody>\n",
       "</table>\n",
       "</div>"
      ],
      "text/plain": [
       "                    Text Speaker\n",
       "0  Ok this is the answer       A\n",
       "1           are you sure       B\n",
       "2        yea yea Im sure       A\n",
       "3       No not like that       C"
      ]
     },
     "execution_count": 4,
     "metadata": {},
     "output_type": "execute_result"
    }
   ],
   "source": [
    "#Some example transcript data to illustrate\n",
    "transcripts = pd.DataFrame()\n",
    "\n",
    "transcripts = transcripts._append({'Text':'Ok this is the answer','Speaker':'A'},ignore_index=True)\n",
    "transcripts = transcripts._append({'Text':'are you sure','Speaker':'B'},ignore_index=True)\n",
    "transcripts = transcripts._append({'Text':'yea yea Im sure','Speaker':'A'},ignore_index=True)\n",
    "transcripts = transcripts._append({'Text':'No not like that','Speaker':'C'},ignore_index=True)\n",
    "\n",
    "\n",
    "transcripts"
   ]
  },
  {
   "cell_type": "code",
   "execution_count": 5,
   "id": "c838b952",
   "metadata": {},
   "outputs": [],
   "source": [
    "# Load a pre-trained sentence transformer model\n",
    "bert_model = SentenceTransformer('all-mpnet-base-v2')\n",
    "\n",
    "#Function to get embedding for text from bert model\n",
    "def get_embedding_bert(text):\n",
    "    text = text.replace(\"\\n\", \" \")\n",
    "    embedding = bert_model.encode(text)\n",
    "    return list(embedding)"
   ]
  },
  {
   "cell_type": "code",
   "execution_count": 6,
   "id": "adfa430f",
   "metadata": {},
   "outputs": [],
   "source": [
    "#Get embeddings for all transcripts\n",
    "transcripts['bert_embedding'] = transcripts['Text'].apply(lambda x: get_embedding_bert(x))"
   ]
  },
  {
   "cell_type": "code",
   "execution_count": 9,
   "metadata": {},
   "outputs": [
    {
     "data": {
      "text/plain": [
       "768"
      ]
     },
     "execution_count": 9,
     "metadata": {},
     "output_type": "execute_result"
    }
   ],
   "source": [
    "len(get_embedding_bert('ok'))"
   ]
  },
  {
   "cell_type": "code",
   "execution_count": 7,
   "id": "af8aea02",
   "metadata": {},
   "outputs": [
    {
     "data": {
      "text/html": [
       "<div>\n",
       "<style scoped>\n",
       "    .dataframe tbody tr th:only-of-type {\n",
       "        vertical-align: middle;\n",
       "    }\n",
       "\n",
       "    .dataframe tbody tr th {\n",
       "        vertical-align: top;\n",
       "    }\n",
       "\n",
       "    .dataframe thead th {\n",
       "        text-align: right;\n",
       "    }\n",
       "</style>\n",
       "<table border=\"1\" class=\"dataframe\">\n",
       "  <thead>\n",
       "    <tr style=\"text-align: right;\">\n",
       "      <th></th>\n",
       "      <th>Text</th>\n",
       "      <th>Speaker</th>\n",
       "      <th>bert_embedding</th>\n",
       "    </tr>\n",
       "  </thead>\n",
       "  <tbody>\n",
       "    <tr>\n",
       "      <th>0</th>\n",
       "      <td>Ok this is the answer</td>\n",
       "      <td>A</td>\n",
       "      <td>[-0.049901105, -0.065872766, -0.027497113, -0....</td>\n",
       "    </tr>\n",
       "    <tr>\n",
       "      <th>1</th>\n",
       "      <td>are you sure</td>\n",
       "      <td>B</td>\n",
       "      <td>[0.047631353, -0.0055989586, -0.01333505, 0.05...</td>\n",
       "    </tr>\n",
       "    <tr>\n",
       "      <th>2</th>\n",
       "      <td>yea yea Im sure</td>\n",
       "      <td>A</td>\n",
       "      <td>[0.0428967, -0.0346221, -0.0034513443, 0.04122...</td>\n",
       "    </tr>\n",
       "    <tr>\n",
       "      <th>3</th>\n",
       "      <td>No not like that</td>\n",
       "      <td>C</td>\n",
       "      <td>[-0.0017823151, -0.026810594, -0.018305428, 0....</td>\n",
       "    </tr>\n",
       "  </tbody>\n",
       "</table>\n",
       "</div>"
      ],
      "text/plain": [
       "                    Text Speaker  \\\n",
       "0  Ok this is the answer       A   \n",
       "1           are you sure       B   \n",
       "2        yea yea Im sure       A   \n",
       "3       No not like that       C   \n",
       "\n",
       "                                      bert_embedding  \n",
       "0  [-0.049901105, -0.065872766, -0.027497113, -0....  \n",
       "1  [0.047631353, -0.0055989586, -0.01333505, 0.05...  \n",
       "2  [0.0428967, -0.0346221, -0.0034513443, 0.04122...  \n",
       "3  [-0.0017823151, -0.026810594, -0.018305428, 0....  "
      ]
     },
     "execution_count": 7,
     "metadata": {},
     "output_type": "execute_result"
    }
   ],
   "source": [
    "transcripts"
   ]
  },
  {
   "cell_type": "code",
   "execution_count": 10,
   "id": "5d3ff936",
   "metadata": {},
   "outputs": [
    {
     "name": "stdout",
     "output_type": "stream",
     "text": [
      "768\n",
      "<class 'list'>\n",
      "<class 'numpy.float32'>\n"
     ]
    }
   ],
   "source": [
    "#Show how to compute Cosine Distance for first and second embeddings\n",
    "emb0 = transcripts.loc[0,'bert_embedding']\n",
    "emb1 = transcripts.loc[1,'bert_embedding']\n",
    "emb2 = transcripts.loc[2,'bert_embedding']\n",
    "emb3 = transcripts.loc[3,'bert_embedding']\n",
    "\n",
    "\n",
    "\n",
    "print(len(emb0)) #768 Dim Vector\n",
    "print(type(emb0)) #Saved as a lisst\n",
    "print(type(emb0[0])) #Of Floats"
   ]
  },
  {
   "cell_type": "code",
   "execution_count": 7,
   "id": "831c7f37",
   "metadata": {},
   "outputs": [
    {
     "name": "stdout",
     "output_type": "stream",
     "text": [
      "0.8356765955686569\n"
     ]
    }
   ],
   "source": [
    "distance_0_1 = cosine(emb0, emb1) #Use Cosine function to get distance\n",
    "print(distance_0_1) #So distance between text 0 and text 1 is ~.84"
   ]
  },
  {
   "cell_type": "code",
   "execution_count": 8,
   "id": "3a033fe1",
   "metadata": {},
   "outputs": [
    {
     "name": "stdout",
     "output_type": "stream",
     "text": [
      "0.5398077964782715\n"
     ]
    }
   ],
   "source": [
    "distance_1_2 = cosine(emb1, emb2)\n",
    "print(distance_1_2) #And distance between text 1 and text 2 is ~.54"
   ]
  },
  {
   "cell_type": "markdown",
   "id": "48826bd2",
   "metadata": {},
   "source": [
    "So as expected here, the distance beetween transcript 0 and 1 (\"ok this is the answer\" -> \"are you sure\") is much greater than the distance between transcript 1 and 2 (\"are you sure\" -> \"yea ya Im sure\"), which makes sense bc these last 2 utterances are much closer."
   ]
  }
 ],
 "metadata": {
  "kernelspec": {
   "display_name": "Python 3 (ipykernel)",
   "language": "python",
   "name": "python3"
  },
  "language_info": {
   "codemirror_mode": {
    "name": "ipython",
    "version": 3
   },
   "file_extension": ".py",
   "mimetype": "text/x-python",
   "name": "python",
   "nbconvert_exporter": "python",
   "pygments_lexer": "ipython3",
   "version": "3.11.4"
  }
 },
 "nbformat": 4,
 "nbformat_minor": 5
}
